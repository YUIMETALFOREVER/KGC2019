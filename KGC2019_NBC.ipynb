{
  "nbformat": 4,
  "nbformat_minor": 0,
  "metadata": {
    "colab": {
      "name": "KGC2019_NBC.ipynb",
      "provenance": [],
      "include_colab_link": true
    },
    "kernelspec": {
      "name": "python3",
      "display_name": "Python 3"
    }
  },
  "cells": [
    {
      "cell_type": "markdown",
      "metadata": {
        "id": "view-in-github",
        "colab_type": "text"
      },
      "source": [
        "<a href=\"https://colab.research.google.com/github/YUIMETALFOREVER/KGC2019/blob/master/KGC2019_NBC.ipynb\" target=\"_parent\"><img src=\"https://colab.research.google.com/assets/colab-badge.svg\" alt=\"Open In Colab\"/></a>"
      ]
    },
    {
      "cell_type": "markdown",
      "metadata": {
        "id": "iDrkm8IXJzQ4",
        "colab_type": "text"
      },
      "source": [
        "# **Naive Bays Classifierのよる犯人推測**"
      ]
    },
    {
      "cell_type": "markdown",
      "metadata": {
        "id": "mje-79dKJ8iM",
        "colab_type": "text"
      },
      "source": [
        "**セリフデータの読み込み**\n",
        "\n",
        "　犯人のセリフ　＝＝＞　cri\n",
        "\n",
        "　犯人以外のセリフ＝＞　inn\n",
        "\n",
        " 事前作業：\n",
        " 犯人のセリフデータ'talk_cri.txt'と犯人以外のセリフデータ'talk_inn.txt'をGithubからコピーしてColaboratoryにアップロードしてください。\n",
        "\n",
        " 現時点では「悪魔の足」のセリフデータのみであるため、学習には大幅に不足しており、pythonコードの動作確認にしかなりません。\n"
      ]
    },
    {
      "cell_type": "code",
      "metadata": {
        "id": "1CLtCXh_KH9g",
        "colab_type": "code",
        "colab": {}
      },
      "source": [
        "import nltk\n",
        "\n",
        "critalk_file = 'talk_cri.txt'  #セリフデータの指定\n",
        "inntalk_file = 'talk_inn.txt'\n",
        "\n",
        "with open(critalk_file,'r') as f:\n",
        "  critalks = f.readlines()\n",
        "with open(inntalk_file,'r') as f:\n",
        "  inntalks = f.readlines()\n",
        "\n",
        "critalks = [line.lower().strip(\"\\n\") for line in critalks]\n",
        "inntalks = [line.lower().strip(\"\\n\") for line in inntalks]\n",
        "\n",
        "# 文末の記号を直前の単語から分離\n",
        "critalks = [line.replace(\"?\",\" ?\").replace(\"!\",\" !\").replace(\".\", \" .\").replace(\",\", \" ,\").replace(\";\",\" ;\").replace(\":\", \" :\") for line in critalks]\n",
        "inntalks = [line.replace(\"?\",\" ?\").replace(\"!\",\" !\").replace(\".\", \" .\").replace(\",\", \" ,\").replace(\";\",\" ;\").replace(\":\", \" :\")  for line in inntalks]\n",
        "\n",
        "\n"
      ],
      "execution_count": 0,
      "outputs": []
    },
    {
      "cell_type": "markdown",
      "metadata": {
        "id": "rdXY0tvwMfGr",
        "colab_type": "text"
      },
      "source": [
        "セリフデータを単語Listに分離してストップワードを除去\n",
        "\n"
      ]
    },
    {
      "cell_type": "code",
      "metadata": {
        "id": "fFi39ZixLoA8",
        "colab_type": "code",
        "colab": {
          "base_uri": "https://localhost:8080/",
          "height": 54
        },
        "outputId": "ce096933-a4e8-4d93-a168-7cce81e232a3"
      },
      "source": [
        "#stopwords を取得\n",
        "from nltk.corpus import stopwords\n",
        "stopwords_en = stopwords.words('english')\n",
        "\n",
        "def get_vocabulary(talks1, talks2):\n",
        "  # 単語単位に分割\n",
        "  split1 = [word for line in talks1 for word in line.split()]\n",
        "  split2 = [word for line in talks2 for word in line.split()]\n",
        "  wordslist = [item for list in [split1,split2] for item in list]\n",
        "  # 重複排除\n",
        "  wordsset = list(set(wordslist))\n",
        "  # stopwordsの排除\n",
        "  vocab =[item for item in wordsset if item not in stopwords_en]\n",
        "  return vocab\n",
        "\n",
        "vocabulary = get_vocabulary(critalks, inntalks)\n",
        "print(vocabulary[0:10])\n"
      ],
      "execution_count": 99,
      "outputs": [
        {
          "output_type": "stream",
          "text": [
            "['poor', 'brothers', 'symptoms', 'money', 'business', 'housekeeper', 'absolutely', 'far', 'dead', \"i'll\"]\n"
          ],
          "name": "stdout"
        }
      ]
    },
    {
      "cell_type": "markdown",
      "metadata": {
        "id": "pMm8QUnBkt7l",
        "colab_type": "text"
      },
      "source": [
        "**ラベル付け**"
      ]
    },
    {
      "cell_type": "code",
      "metadata": {
        "id": "t0-VMP-EPLmn",
        "colab_type": "code",
        "colab": {
          "base_uri": "https://localhost:8080/",
          "height": 72
        },
        "outputId": "3567f23c-94c5-4751-ebba-b306b7d97436"
      },
      "source": [
        "def get_taggeddata(cri, inn):\n",
        "  # セリフlistを辞書化する　key='talk' セリフを格納　key='label' 'cri' or 'inn' のラベルを格納\n",
        "  cri_dict = [{'talk':talk.split(),'label':'cri'} for talk in cri]\n",
        "  inn_dict = [{'talk':talk.split(),'label':'inn'} for talk in inn]\n",
        "  conv_dict = [item for list in [cri_dict,inn_dict] for item in list]\n",
        "  print(conv_dict[0:10])\n",
        "  tagged_data = [(talk['talk'],talk['label']) for talk in conv_dict]\n",
        "  return tagged_data\n",
        "\n",
        "tagged_data = get_taggeddata(cri=critalks,inn=inntalks)\n",
        "print(tagged_data)"
      ],
      "execution_count": 101,
      "outputs": [
        {
          "output_type": "stream",
          "text": [
            "[{'talk': ['mr', '.', 'holmes', ',the', 'most', 'extraordinary', 'and', 'tragic', 'affair', 'has', 'occurred', 'during', 'the', 'night', '.', 'it', 'is', 'the', 'most', 'unheard-of', 'business', '.', 'we', 'can', 'only', 'regard', 'it', 'as', 'a', 'special', 'providence', 'that', 'you', 'should', 'chance', 'to', 'be', 'here', 'at', 'the', 'time', ',', 'for', 'in', 'all', 'england', 'you', 'are', 'the', 'one', 'man', 'we', 'need', '.'], 'label': 'cri'}, {'talk': ['perhaps', 'i', 'had', 'best', 'say', 'a', 'few', 'words', 'first', ',and', 'then', 'you', 'can', 'judge', 'if', 'you', 'will', 'listen', 'to', 'the', 'details', 'from', 'mr', '.', 'tregennis', ',', 'or', 'whether', 'we', 'should', 'not', 'hasten', 'at', 'once', 'to', 'the', 'scene', 'of', 'this', 'mysterious', 'affair', '.'], 'label': 'cri'}, {'talk': ['i', 'may', 'explain', ',', 'then', ',', 'that', 'our', 'friend', 'here', 'spent', 'last', 'evening', 'in', 'the', 'company', 'of', 'his', 'two', 'brothers', ','], 'label': 'cri'}, {'talk': ['owen', 'and', 'george', ',', 'and', 'of', 'his', 'sister', 'brenda', ',', 'at', 'their', 'house', 'of', 'tredannick', 'wartha', ',', 'which', 'is', 'near', 'the', 'old', 'stone', 'cross', 'upon', 'the', 'moor', '.'], 'label': 'cri'}, {'talk': ['he', 'left', 'them', 'shortly', 'after', 'ten', \"o'clock\", ',', 'playing', 'cards', 'round', 'the', 'dining-room', 'table', ',', 'in', 'excellent', 'health', 'and', 'spirits', '.'], 'label': 'cri'}, {'talk': ['this', 'morning', ',', 'being', 'an', 'early', 'riser', ',', 'he', 'walked', 'in', 'that', 'direction', 'before', 'breakfast', 'and', 'was', 'overtaken', 'by', 'the', 'carriage', 'of', 'dr', '.', 'richards', ',', 'who', 'explained', 'that', 'he', 'had', 'just', 'been', 'sent', 'for', 'on', 'a', 'most', 'urgent', 'call', 'to', 'tredannick', 'wartha', '.'], 'label': 'cri'}, {'talk': ['mr', '.', 'mortimer', 'tregennis', 'naturally', 'went', 'with', 'him', '.', 'when', 'he', 'arrived', 'at', 'tredannick', 'wartha', 'he', 'found', 'an', 'extraordinary', 'state', 'of', 'things', '.'], 'label': 'cri'}, {'talk': ['his', 'two', 'brothers', 'and', 'his', 'sister', 'were', 'seated', 'round', 'the', 'table', 'exactly', 'as', 'he', 'had', 'left', 'them', ',', 'the', 'cards', 'still', 'spread', 'in', 'front', 'of', 'them', 'and', 'the', 'candles', 'burned', 'down', 'to', 'their', 'sockets', '.'], 'label': 'cri'}, {'talk': ['the', 'sister', 'lay', 'back', 'stone-dead', 'in', 'her', 'chair', ',', 'while', 'the', 'two', 'brothers', 'sat', 'on', 'each', 'side', 'of', 'her', 'laughing', ',', 'shouting', ',', 'and', 'singing', ',', 'the', 'senses', 'stricken', 'clean', 'out', 'of', 'them', '.'], 'label': 'cri'}, {'talk': ['all', 'three', 'of', 'them', ',', 'the', 'dead', 'woman', 'and', 'the', 'two', 'demented', 'men', ',', 'retained', 'upon', 'their', 'faces', 'an', 'expression', 'of', 'the', 'utmost', 'horror', 'a', 'convulsion', 'of', 'terror', 'which', 'was', 'dreadful', 'to', 'look', 'upon', '.'], 'label': 'cri'}]\n",
            "[(['mr', '.', 'holmes', ',the', 'most', 'extraordinary', 'and', 'tragic', 'affair', 'has', 'occurred', 'during', 'the', 'night', '.', 'it', 'is', 'the', 'most', 'unheard-of', 'business', '.', 'we', 'can', 'only', 'regard', 'it', 'as', 'a', 'special', 'providence', 'that', 'you', 'should', 'chance', 'to', 'be', 'here', 'at', 'the', 'time', ',', 'for', 'in', 'all', 'england', 'you', 'are', 'the', 'one', 'man', 'we', 'need', '.'], 'cri'), (['perhaps', 'i', 'had', 'best', 'say', 'a', 'few', 'words', 'first', ',and', 'then', 'you', 'can', 'judge', 'if', 'you', 'will', 'listen', 'to', 'the', 'details', 'from', 'mr', '.', 'tregennis', ',', 'or', 'whether', 'we', 'should', 'not', 'hasten', 'at', 'once', 'to', 'the', 'scene', 'of', 'this', 'mysterious', 'affair', '.'], 'cri'), (['i', 'may', 'explain', ',', 'then', ',', 'that', 'our', 'friend', 'here', 'spent', 'last', 'evening', 'in', 'the', 'company', 'of', 'his', 'two', 'brothers', ','], 'cri'), (['owen', 'and', 'george', ',', 'and', 'of', 'his', 'sister', 'brenda', ',', 'at', 'their', 'house', 'of', 'tredannick', 'wartha', ',', 'which', 'is', 'near', 'the', 'old', 'stone', 'cross', 'upon', 'the', 'moor', '.'], 'cri'), (['he', 'left', 'them', 'shortly', 'after', 'ten', \"o'clock\", ',', 'playing', 'cards', 'round', 'the', 'dining-room', 'table', ',', 'in', 'excellent', 'health', 'and', 'spirits', '.'], 'cri'), (['this', 'morning', ',', 'being', 'an', 'early', 'riser', ',', 'he', 'walked', 'in', 'that', 'direction', 'before', 'breakfast', 'and', 'was', 'overtaken', 'by', 'the', 'carriage', 'of', 'dr', '.', 'richards', ',', 'who', 'explained', 'that', 'he', 'had', 'just', 'been', 'sent', 'for', 'on', 'a', 'most', 'urgent', 'call', 'to', 'tredannick', 'wartha', '.'], 'cri'), (['mr', '.', 'mortimer', 'tregennis', 'naturally', 'went', 'with', 'him', '.', 'when', 'he', 'arrived', 'at', 'tredannick', 'wartha', 'he', 'found', 'an', 'extraordinary', 'state', 'of', 'things', '.'], 'cri'), (['his', 'two', 'brothers', 'and', 'his', 'sister', 'were', 'seated', 'round', 'the', 'table', 'exactly', 'as', 'he', 'had', 'left', 'them', ',', 'the', 'cards', 'still', 'spread', 'in', 'front', 'of', 'them', 'and', 'the', 'candles', 'burned', 'down', 'to', 'their', 'sockets', '.'], 'cri'), (['the', 'sister', 'lay', 'back', 'stone-dead', 'in', 'her', 'chair', ',', 'while', 'the', 'two', 'brothers', 'sat', 'on', 'each', 'side', 'of', 'her', 'laughing', ',', 'shouting', ',', 'and', 'singing', ',', 'the', 'senses', 'stricken', 'clean', 'out', 'of', 'them', '.'], 'cri'), (['all', 'three', 'of', 'them', ',', 'the', 'dead', 'woman', 'and', 'the', 'two', 'demented', 'men', ',', 'retained', 'upon', 'their', 'faces', 'an', 'expression', 'of', 'the', 'utmost', 'horror', 'a', 'convulsion', 'of', 'terror', 'which', 'was', 'dreadful', 'to', 'look', 'upon', '.'], 'cri'), (['there', 'was', 'no', 'sign', 'of', 'the', 'presence', 'of', 'anyone', 'in', 'the', 'house', ',', 'except', 'mrs', '.', 'porter', ',', 'the', 'old', 'cook', 'and', 'housekeeper', ',', 'who', 'declared', 'that', 'she', 'had', 'slept', 'deeply', 'and', 'heard', 'no', 'sound', 'during', 'the', 'night', '.'], 'cri'), (['nothing', 'had', 'been', 'stolen', 'or', 'disarranged', ',', 'and', 'there', 'is', 'absolutely', 'no', 'explanation', 'of', 'what', 'the', 'horror', 'can', 'be', 'which', 'has', 'frightened', 'a', 'woman', 'to', 'death', 'and', 'two', 'strong', 'men', 'out', 'of', 'their', 'senses', '.'], 'cri'), (['there', 'is', 'the', 'situation', ','], 'cri'), (['mr', '.', 'holmes', ',', 'in', 'a', 'nutshell', ',', 'and', 'if', 'you', 'can', 'help', 'us', 'to', 'clear', 'it', 'up', 'you', 'will', 'have', 'done', 'a', 'great', 'work', '.'], 'cri'), (['no', ',', 'mr', '.', 'holmes', '.', 'mr', '.', 'tregennis', 'brought', 'back', 'the', 'account', 'to', 'the', 'vicarage', ',', 'and', 'i', 'at', 'once', 'hurried', 'over', 'with', 'him', 'to', 'consult', 'you', '.'], 'cri'), (['about', 'a', 'mile', 'inland', '.'], 'cri'), (['the', 'county', 'police', 'are', 'utterly', 'at', 'fault', ','], 'cri'), (['but', 'perhaps', 'your', 'wider', 'experience', 'has', 'suggested', 'some', 'conceivable', 'explanation', '.'], 'cri'), (['my', 'only', 'claim', 'to', 'being', 'taken', 'into', 'your', 'confidence', 'is', 'that', 'during', 'my', 'many', 'residences', 'here', 'i', 'have', 'come', 'to', 'know', 'this', 'family', 'of', 'tregennis', 'very', 'well', 'indeed', ',', 'upon', 'my', 'cornish', \"mother's\", 'side', 'i', 'could', 'call', 'them', 'cousins', 'and', 'their', 'strange', 'fate', 'has', 'naturally', 'been', 'a', 'great', 'shock', 'to', 'me', '.'], 'cri'), (['i', 'may', 'tell', 'you', 'that', 'i', 'had', 'got', 'as', 'far', 'as', 'plymouth', 'upon', 'my', 'way', 'to', 'africa', ',', 'but', 'the', 'news', 'reached', 'me', 'this', 'morning', ',', 'and', 'i', 'came', 'straight', 'back', 'again', 'to', 'help', 'in', 'the', 'inquiry', '.'], 'cri'), (['i', 'will', 'take', 'the', 'next', '.'], 'cri'), (['i', 'tell', 'you', 'they', 'were', 'relatives', '.'], 'cri'), (['some', 'of', 'it', ',', 'but', 'the', 'main', 'part', 'at', 'the', 'hotel', '.'], 'cri'), (['no', ',', 'sir', ';', 'i', 'had', 'a', 'telegram', '.'], 'cri'), (['you', 'are', 'very', 'inquisitive', ',', 'mr', '.', 'holmes', '.'], 'cri'), (['i', 'have', 'no', 'objection', 'to', 'telling', 'you', ','], 'cri'), (['it', 'was', 'mr', '.', 'roundhay', ',', 'the', 'vicar', ',', 'who', 'sent', 'me', 'the', 'telegram', 'which', 'recalled', 'me', '.'], 'cri'), (['perhaps', 'you', 'would', 'not', 'mind', 'telling', 'me', 'if', 'your', 'suspicions', 'point', 'in', 'any', 'particular', 'direction', '?'], 'cri'), (['then', 'i', 'have', 'wasted', 'my', 'time', 'and', 'need', 'not', 'prolong', 'my', 'visit', '.'], 'cri'), (['we', 'are', 'devil-ridden', ',', 'mr', '.', 'holmes', '!', 'my', 'poor', 'parish', 'is', 'devil-ridden', '!'], 'cri'), (['satan', 'himself', 'is', 'loose', 'in', 'it', '!', 'we', 'are', 'given', 'over', 'into', 'his', 'hands', '!'], 'cri'), (['mr', '.', 'mortimer', 'tregennis', 'died', 'during', 'the', 'night', ',', 'and', 'with', 'exactly', 'the', 'same', 'symptoms', 'as', 'the', 'rest', 'of', 'his', 'family', '.'], 'cri'), (['yes', ',', 'i', 'can', '.'], 'cri'), (['shall', 'i', 'speak', 'or', 'you', '?'], 'inn'), (['ask', 'what', 'you', 'like', ',', 'mr', '.', 'holmes', ','], 'inn'), (['well', ',', 'mr', '.', 'holmes', ',', 'i', 'supped', 'there', ',', 'as', 'the', 'vicar', 'has', 'said', ',', 'and', 'my', 'elder', 'brother', 'george', 'proposed', 'a', 'game', 'of', 'whist', 'afterwards', '.', 'we', 'sat', 'down', 'about', 'nine', \"o'clock\", '.', 'it', 'was', 'a', 'quarter-past', 'ten', 'when', 'i', 'moved', 'to', 'go', '.', 'i', 'left', 'them', 'all', 'round', 'the', 'table', ',', 'as', 'merry', 'as', 'could', 'be', '.'], 'inn'), (['mrs', '.', 'porter', 'had', 'gone', 'to', 'bed', ',', 'so', 'i', 'let', 'myself', 'out', '.', 'i', 'shut', 'the', 'hall', 'door', 'behind', 'me', '.', 'the', 'window', 'of', 'the', 'room', 'in', 'which', 'they', 'sat', 'was', 'closed', ',', 'but', 'the', 'blind', 'was', 'not', 'drawn', 'down', '.'], 'inn'), (['there', 'was', 'no', 'change', 'in', 'door', 'or', 'window', 'this', 'morning', ',', 'nor', 'any', 'reason', 'to', 'think', 'that', 'any', 'stranger', 'had', 'been', 'to', 'the', 'house', '.'], 'inn'), (['yet', 'there', 'they', 'sat', ',', 'driven', 'clean', 'mad', 'with', 'terror', ',', 'and', 'brenda', 'lying', 'dead', 'of', 'fright', ',', 'with', 'her', 'head', 'hanging', 'over', 'the', 'arm', 'of', 'the', 'chair', '.', \"i'll\", 'never', 'get', 'the', 'sight', 'of', 'that', 'room', 'out', 'of', 'my', 'mind', 'so', 'long', 'as', 'i', 'live', '.'], 'inn'), ([\"it's\", 'devilish', ',', 'mr', '.', 'holmes', ',', 'devilish', '!', 'it', 'is', 'not', 'of', 'this', 'world', '.', 'something', 'has', 'come', 'into', 'that', 'room', 'which', 'has', 'dashed', 'the', 'light', 'of', 'reason', 'from', 'their', 'minds', '.', 'what', 'human', 'contrivance', 'could', 'do', 'that', '?'], 'inn'), (['that', 'is', 'so', ',', 'mr', '.', 'holmes', ',', 'though', 'the', 'matter', 'is', 'past', 'and', 'done', 'with', '.', 'we', 'were', 'a', 'family', 'of', 'tin-miners', 'at', 'redruth', ',', 'but', 'we', 'sold', 'out', 'our', 'venture', 'to', 'a', 'company', ',', 'and', 'so', 'retired', 'with', 'enough', 'to', 'keep', 'us', '.'], 'inn'), (['i', \"won't\", 'deny', 'that', 'there', 'was', 'some', 'feeling', 'about', 'the', 'division', 'of', 'the', 'money', 'and', 'it', 'stood', 'between', 'us', 'for', 'a', 'time', ',', 'but', 'it', 'was', 'all', 'forgiven', 'and', 'forgotten', ',', 'and', 'we', 'were', 'the', 'best', 'of', 'friends', 'together', '.'], 'inn'), (['there', 'is', 'nothing', 'at', 'all', ',', 'sir', '.'], 'inn'), (['never', 'better', '.'], 'inn'), (['nothing', 'of', 'the', 'kind', '.'], 'inn'), (['there', 'is', 'one', 'thing', 'occurs', 'to', 'me', ','], 'inn'), (['as', 'we', 'sat', 'at', 'the', 'table', 'my', 'back', 'was', 'to', 'the', 'window', ',', 'and', 'my', 'brother', 'george', ',', 'he', 'being', 'my', 'partner', 'at', 'cards', ',', 'was', 'facing', 'it', '.', 'i', 'saw', 'him', 'once', 'look', 'hard', 'over', 'my', 'shoulder', ',', 'so', 'i', 'turned', 'round', 'and', 'looked', 'also', '.'], 'inn'), (['the', 'blind', 'was', 'up', 'and', 'the', 'window', 'shut', ',', 'but', 'i', 'could', 'just', 'make', 'out', 'the', 'bushes', 'on', 'the', 'lawn', ',', 'and', 'it', 'seemed', 'to', 'me', 'for', 'a', 'moment', 'that', 'i', 'saw', 'something', 'moving', 'among', 'them', '.', 'i', \"couldn't\", 'even', 'say', 'if', 'it', 'was', 'man', 'or', 'animal', ',', 'but', 'i', 'just', 'thought', 'there', 'was', 'something', 'there', '.'], 'inn'), (['when', 'i', 'asked', 'him', 'what', 'he', 'was', 'looking', 'at', ',', 'he', 'told', 'me', 'that', 'he', 'had', 'the', 'same', 'feeling', '.', 'that', 'is', 'all', 'that', 'i', 'can', 'say', '.'], 'inn'), (['no', ';', 'the', 'matter', 'passed', 'as', 'unimportant', '.'], 'inn'), (['none', 'at', 'all', '.'], 'inn'), (['i', 'am', 'an', 'early', 'riser', 'and', 'generally', 'take', 'a', 'walk', 'before', 'breakfast', '.', 'this', 'morning', 'i', 'had', 'hardly', 'started', 'when', 'the', 'doctor', 'in', 'his', 'carriage', 'overtook', 'me', '.'], 'inn'), (['he', 'told', 'me', 'that', 'old', 'mrs', '.', 'porter', 'had', 'sent', 'a', 'boy', 'down', 'with', 'an', 'urgent', 'message', '.', 'i', 'sprang', 'in', 'beside', 'him', 'and', 'we', 'drove', 'on', '.'], 'inn'), (['when', 'we', 'got', 'there', 'we', 'looked', 'into', 'that', 'dreadful', 'room', '.', 'the', 'candles', 'and', 'the', 'fire', 'must', 'have', 'burned', 'out', 'hours', 'before', ',', 'and', 'they', 'had', 'been', 'sitting', 'there', 'in', 'the', 'dark', 'until', 'dawn', 'had', 'broken', '.'], 'inn'), (['the', 'doctor', 'said', 'brenda', 'must', 'have', 'been', 'dead', 'at', 'least', 'six', 'hours', '.', 'there', 'were', 'no', 'signs', 'of', 'violence', '.', 'she', 'just', 'lay', 'across', 'the', 'arm', 'of', 'the', 'chair', 'with', 'that', 'look', 'on', 'her', 'face', '.'], 'inn'), (['george', 'and', 'owen', 'were', 'singing', 'snatches', 'of', 'songs', 'and', 'gibbering', 'like', 'two', 'great', 'apes', '.', 'oh', ',', 'it', 'was', 'awful', 'to', 'see', '!', 'i', \"couldn't\", 'stand', 'it', ',', 'and', 'the', 'doctor', 'was', 'as', 'white', 'as', 'a', 'sheet', '.'], 'inn'), (['indeed', ',', 'he', 'fell', 'into', 'a', 'chair', 'in', 'a', 'sort', 'of', 'faint', ',', 'and', 'we', 'nearly', 'had', 'him', 'on', 'our', 'hands', 'as', 'well', '.'], 'inn'), (['my', 'brothers', '!'], 'inn'), (['they', 'are', 'taking', 'them', 'to', 'helston', '.'], 'inn'), (['what', 'are', 'you', 'going', 'to', 'do', 'now', ',', 'mr', '.', 'holmes', '?'], 'inn'), (['you', 'sent', 'for', 'me', ',', 'mr', '.', 'holmes', '.', 'i', 'had', 'your', 'note', 'about', 'an', 'hour', 'ago', ',', 'and', 'i', 'have', 'come', ',', 'though', 'i', 'really', 'do', 'not', 'know', 'why', 'i', 'should', 'obey', 'your', 'summons', '.'], 'inn'), (['i', 'am', 'at', 'a', 'loss', 'to', 'know', ',', 'sir', ','], 'inn'), (['what', 'you', 'can', 'have', 'to', 'speak', 'about', 'which', 'affects', 'me', 'personally', 'in', 'a', 'very', 'intimate', 'fashion', '.'], 'inn'), (['that', 'i', 'have', 'got', 'into', 'the', 'way', 'of', 'being', 'a', 'law', 'to', 'myself', '.', 'you', 'would', 'do', 'well', ',', 'mr', '.', 'holmes', ',', 'not', 'to', 'forget', 'it', ',', 'for', 'i', 'have', 'no', 'desire', 'to', 'do', 'you', 'an', 'injury', '.'], 'inn'), (['what', 'do', 'you', 'mean', '?'], 'inn'), (['if', 'this', 'is', 'bluff', 'upon', 'your', 'part', ',', 'mr', '.', 'holmes', ',', 'you', 'have', 'chosen', 'a', 'bad', 'man', 'for', 'your', 'experiment', '.', 'let', 'us', 'have', 'no', 'more', 'beating', 'about', 'the', 'bush', '.', 'what', 'do', 'you', 'mean', '?'], 'inn'), (['my', 'defence', '?'], 'inn'), (['my', 'defence', 'against', 'what', '?'], 'inn'), (['upon', 'my', 'word', ',', 'you', 'are', 'getting', 'on', ','], 'inn'), (['do', 'all', 'your', 'successes', 'depend', 'upon', 'this', 'prodigious', 'power', 'of', 'bluff', '?'], 'inn'), (['i', 'came', 'back'], 'inn'), (['how', 'do', 'you', 'know', 'that', '?'], 'inn'), (['i', 'saw', 'no', 'one', '.'], 'inn'), (['i', 'believe', 'that', 'you', 'are', 'the', 'devil', 'himself', '!'], 'inn'), (['that', 'is', 'why', 'i', 'have', 'done', 'it', ','], 'inn')]\n"
          ],
          "name": "stdout"
        }
      ]
    },
    {
      "cell_type": "markdown",
      "metadata": {
        "id": "Mu2u-o8U-wuA",
        "colab_type": "text"
      },
      "source": [
        "**学習**"
      ]
    },
    {
      "cell_type": "code",
      "metadata": {
        "id": "G0_1u3jA-vm-",
        "colab_type": "code",
        "colab": {
          "base_uri": "https://localhost:8080/",
          "height": 72
        },
        "outputId": "c755b44d-81a3-4384-be7c-3df15cd23f7e"
      },
      "source": [
        "def extract_features(talks):\n",
        "  talk_words = set(talks)\n",
        "  features = {}\n",
        "  for word in vocabulary:\n",
        "    features[word] = (word in talk_words)\n",
        "  return features\n",
        "\n",
        "features = nltk.classify.apply_features(extract_features, tagged_data)\n",
        "\n",
        "#testデータとtrainデータに分割\n",
        "split = 65\n",
        "test_data = features[split+1:]\n",
        "train_data = features[:split]\n",
        "print(train_data[0:100])\n",
        "print(len(test_data),len(train_data))\n"
      ],
      "execution_count": 112,
      "outputs": [
        {
          "output_type": "stream",
          "text": [
            "[({'poor': False, 'brothers': False, 'symptoms': False, 'money': False, 'business': True, 'housekeeper': False, 'absolutely': False, 'far': False, 'dead': False, \"i'll\": False, 'mile': False, 'frightened': False, 'make': False, 'suggested': False, 'evening': False, 'particular': False, 'live': False, 'judge': False, 'candles': False, 'deny': False, 'taking': False, 'occurs': False, 'power': False, 'fright': False, 'message': False, 'yes': False, 'singing': False, 'world': False, 'tregennis': False, 'spent': False, 'bush': False, 'faces': False, 'call': False, 'could': False, 'dr': False, 'sister': False, 'really': False, 'facing': False, 'explained': False, 'take': False, 'thought': False, 'told': False, 'loose': False, 'doctor': False, 'signs': False, 'spread': False, 'door': False, 'kind': False, 'tredannick': False, 'done': False, 'holmes': True, 'porter': False, 'overtook': False, 'breakfast': False, 'england': True, 'wider': False, 'tragic': True, 'naturally': False, 'mind': False, 'upon': False, 'like': False, 'near': False, 'utterly': False, 'affair': True, 'tin-miners': False, 'mortimer': False, 'experiment': False, 'wartha': False, 'next': False, 'come': False, 'george': False, 'health': False, '!': False, 'got': False, 'let': False, 'among': False, 'blind': False, 'words': False, 'help': False, 'inland': False, 'mad': False, 'ten': False, 'also': False, 'light': False, 'inquiry': False, 'chosen': False, 'stranger': False, 'bushes': False, 'sprang': False, 'account': False, 'senses': False, 'brenda': False, 'nothing': False, 'mysterious': False, 'seemed': False, 'better': False, 'turned': False, 'richards': False, 'never': False, 'speak': False, 'saw': False, 'cards': False, 'sheet': False, 'seated': False, 'horror': False, 'presence': False, 'depend': False, 'get': False, 'overtaken': False, 'even': False, 'county': False, 'need': True, 'mean': False, 'dreadful': False, 'carriage': False, 'situation': False, 'slept': False, 'hotel': False, 'woman': False, 'bluff': False, 'bad': False, 'think': False, 'plymouth': False, 'company': False, 'successes': False, 'residences': False, 'died': False, 'division': False, 'death': False, 'declared': False, 'satan': False, 'forgiven': False, 'expression': False, 'affects': False, 'brought': False, 'redruth': False, 'confidence': False, 'fashion': False, 'afterwards': False, 'wasted': False, 'sitting': False, 'desire': False, 'feeling': False, 'stolen': False, 'hardly': False, 'nearly': False, 'strong': False, 'note': False, 'perhaps': False, 'whether': False, 'forget': False, \"o'clock\": False, 'africa': False, 'night': True, 'providence': True, 'still': False, 'hurried': False, 'first': False, 'laughing': False, 'except': False, 'shouting': False, 'devil-ridden': False, '?': False, 'old': False, 'sold': False, 'partner': False, 'excellent': False, 'drove': False, 'fell': False, 'anyone': False, 'hour': False, 'lying': False, 'shortly': False, 'forgotten': False, 'two': False, 'prolong': False, 'sockets': False, 'state': False, 'us': False, 'gone': False, 'sir': False, 'owen': False, 'round': False, 'venture': False, 'drawn': False, 'front': False, 'back': False, 'convulsion': False, 'none': False, 'things': False, 'side': False, 'asked': False, 'started': False, 'moor': False, 'least': False, 'devil': False, 'disarranged': False, 'heard': False, 'cousins': False, 'walk': False, 'strange': False, 'moment': False, 'window': False, 'shut': False, 'consult': False, 'found': False, 'obey': False, 'unheard-of': True, 'terror': False, 'mrs': False, 'way': False, 'sent': False, 'friend': False, 'nine': False, 'word': False, 'cross': False, 'special': True, '.': True, 'cook': False, 'family': False, 'fire': False, 'must': False, 'songs': False, 'long': False, 'hasten': False, 'hard': False, 'loss': False, 'unimportant': False, 'cornish': False, 'house': False, 'main': False, 'mr': True, 'personally': False, 'moved': False, 'stood': False, 'time': True, 'taken': False, \"mother's\": False, 'fate': False, 'table': False, 'spirits': False, 'urgent': False, 'details': False, 'together': False, 'objection': False, 'prodigious': False, 'playing': False, 'went': False, 'summons': False, 'passed': False, ';': False, 'something': False, 'great': False, 'inquisitive': False, 'change': False, 'quarter-past': False, 'boy': False, 'lay': False, ',and': False, 'snatches': False, 'given': False, 'exactly': False, 'believe': False, 'animal': False, 'hanging': False, 'burned': False, 'roundhay': False, 'supped': False, 'telegram': False, 'many': False, 'direction': False, 'face': False, 'enough': False, 'tell': False, 'hands': False, 'chair': False, 'matter': False, 'scene': False, 'explanation': False, 'news': False, 'closed': False, 'came': False, 'parish': False, 'lawn': False, 'oh': False, 'indeed': False, 'rest': False, 'said': False, 'well': False, 'work': False, 'clear': False, 'generally': False, 'early': False, 'experience': False, 'look': False, 'last': False, 'behind': False, 'dashed': False, 'ask': False, 'friends': False, 'defence': False, 'intimate': False, 'reason': False, 'deeply': False, 'recalled': False, 'head': False, 'walked': False, 'occurred': True, 'devilish': False, 'minds': False, 'sound': False, 'three': False, 'room': False, 'would': False, 'claim': False, 'riser': False, 'game': False, 'ago': False, 'faint': False, 'sort': False, 'thing': False, 'shall': False, 'contrivance': False, 'reached': False, 'utmost': False, 'explain': False, 'keep': False, 'clean': False, 'looking': False, 'sight': False, 'arrived': False, 'human': False, 'dawn': False, 'straight': False, 'know': False, 'dining-room': False, 'visit': False, 'dark': False, 'across': False, 'injury': False, 'vicar': False, 'helston': False, 'extraordinary': True, 'best': False, 'apes': False, 'going': False, 'stricken': False, 'white': False, 'men': False, 'chance': True, 'whist': False, 'sat': False, 'law': False, 'beating': False, 'beside': False, 'driven': False, 'one': True, 'brother': False, 'demented': False, 'looked': False, 'broken': False, 'stand': False, 'relatives': False, 'man': True, 'proposed': False, ',': True, 'hours': False, 'past': False, 'regard': True, 'sign': False, 'suspicions': False, 'may': False, 'listen': False, 'yet': False, 'shock': False, 'bed': False, 'nutshell': False, 'merry': False, 'stone': False, 'moving': False, 'part': False, 'conceivable': False, 'awful': False, 'go': False, 'left': False, 'police': False, 'getting': False, 'retired': False, 'six': False, 'elder': False, 'morning': False, 'gibbering': False, 'see': False, 'vicarage': False, 'stone-dead': False, 'point': False, 'say': False, 'fault': False, 'retained': False, 'hall': False, 'shoulder': False, 'arm': False, 'though': False, 'violence': False, ',the': True, 'telling': False}, 'cri'), ({'poor': False, 'brothers': False, 'symptoms': False, 'money': False, 'business': False, 'housekeeper': False, 'absolutely': False, 'far': False, 'dead': False, \"i'll\": False, 'mile': False, 'frightened': False, 'make': False, 'suggested': False, 'evening': False, 'particular': False, 'live': False, 'judge': True, 'candles': False, 'deny': False, 'taking': False, 'occurs': False, 'power': False, 'fright': False, 'message': False, 'yes': False, 'singing': False, 'world': False, 'tregennis': True, 'spent': False, 'bush': False, 'faces': False, 'call': False, 'could': False, 'dr': False, 'sister': False, 'really': False, 'facing': False, 'explained': False, 'take': False, 'thought': False, 'told': False, 'loose': False, 'doctor': False, 'signs': False, 'spread': False, 'door': False, 'kind': False, 'tredannick': False, 'done': False, 'holmes': False, 'porter': False, 'overtook': False, 'breakfast': False, 'england': False, 'wider': False, 'tragic': False, 'naturally': False, 'mind': False, 'upon': False, 'like': False, 'near': False, 'utterly': False, 'affair': True, 'tin-miners': False, 'mortimer': False, 'experiment': False, 'wartha': False, 'next': False, 'come': False, 'george': False, 'health': False, '!': False, 'got': False, 'let': False, 'among': False, 'blind': False, 'words': True, 'help': False, 'inland': False, 'mad': False, 'ten': False, 'also': False, 'light': False, 'inquiry': False, 'chosen': False, 'stranger': False, 'bushes': False, 'sprang': False, 'account': False, 'senses': False, 'brenda': False, 'nothing': False, 'mysterious': True, 'seemed': False, 'better': False, 'turned': False, 'richards': False, 'never': False, 'speak': False, 'saw': False, 'cards': False, 'sheet': False, 'seated': False, 'horror': False, 'presence': False, 'depend': False, 'get': False, 'overtaken': False, 'even': False, 'county': False, 'need': False, 'mean': False, 'dreadful': False, 'carriage': False, 'situation': False, 'slept': False, 'hotel': False, 'woman': False, 'bluff': False, 'bad': False, 'think': False, 'plymouth': False, 'company': False, 'successes': False, 'residences': False, 'died': False, 'division': False, 'death': False, 'declared': False, 'satan': False, 'forgiven': False, 'expression': False, 'affects': False, 'brought': False, 'redruth': False, 'confidence': False, 'fashion': False, 'afterwards': False, 'wasted': False, 'sitting': False, 'desire': False, 'feeling': False, 'stolen': False, 'hardly': False, 'nearly': False, 'strong': False, 'note': False, 'perhaps': True, 'whether': True, 'forget': False, \"o'clock\": False, 'africa': False, 'night': False, 'providence': False, 'still': False, 'hurried': False, 'first': True, 'laughing': False, 'except': False, 'shouting': False, 'devil-ridden': False, '?': False, 'old': False, 'sold': False, 'partner': False, 'excellent': False, 'drove': False, 'fell': False, 'anyone': False, 'hour': False, 'lying': False, 'shortly': False, 'forgotten': False, 'two': False, 'prolong': False, 'sockets': False, 'state': False, 'us': False, 'gone': False, 'sir': False, 'owen': False, 'round': False, 'venture': False, 'drawn': False, 'front': False, 'back': False, 'convulsion': False, 'none': False, 'things': False, 'side': False, 'asked': False, 'started': False, 'moor': False, 'least': False, 'devil': False, 'disarranged': False, 'heard': False, 'cousins': False, 'walk': False, 'strange': False, 'moment': False, 'window': False, 'shut': False, 'consult': False, 'found': False, 'obey': False, 'unheard-of': False, 'terror': False, 'mrs': False, 'way': False, 'sent': False, 'friend': False, 'nine': False, 'word': False, 'cross': False, 'special': False, '.': True, 'cook': False, 'family': False, 'fire': False, 'must': False, 'songs': False, 'long': False, 'hasten': True, 'hard': False, 'loss': False, 'unimportant': False, 'cornish': False, 'house': False, 'main': False, 'mr': True, 'personally': False, 'moved': False, 'stood': False, 'time': False, 'taken': False, \"mother's\": False, 'fate': False, 'table': False, 'spirits': False, 'urgent': False, 'details': True, 'together': False, 'objection': False, 'prodigious': False, 'playing': False, 'went': False, 'summons': False, 'passed': False, ';': False, 'something': False, 'great': False, 'inquisitive': False, 'change': False, 'quarter-past': False, 'boy': False, 'lay': False, ',and': True, 'snatches': False, 'given': False, 'exactly': False, 'believe': False, 'animal': False, 'hanging': False, 'burned': False, 'roundhay': False, 'supped': False, 'telegram': False, 'many': False, 'direction': False, 'face': False, 'enough': False, 'tell': False, 'hands': False, 'chair': False, 'matter': False, 'scene': True, 'explanation': False, 'news': False, 'closed': False, 'came': False, 'parish': False, 'lawn': False, 'oh': False, 'indeed': False, 'rest': False, 'said': False, 'well': False, 'work': False, 'clear': False, 'generally': False, 'early': False, 'experience': False, 'look': False, 'last': False, 'behind': False, 'dashed': False, 'ask': False, 'friends': False, 'defence': False, 'intimate': False, 'reason': False, 'deeply': False, 'recalled': False, 'head': False, 'walked': False, 'occurred': False, 'devilish': False, 'minds': False, 'sound': False, 'three': False, 'room': False, 'would': False, 'claim': False, 'riser': False, 'game': False, 'ago': False, 'faint': False, 'sort': False, 'thing': False, 'shall': False, 'contrivance': False, 'reached': False, 'utmost': False, 'explain': False, 'keep': False, 'clean': False, 'looking': False, 'sight': False, 'arrived': False, 'human': False, 'dawn': False, 'straight': False, 'know': False, 'dining-room': False, 'visit': False, 'dark': False, 'across': False, 'injury': False, 'vicar': False, 'helston': False, 'extraordinary': False, 'best': True, 'apes': False, 'going': False, 'stricken': False, 'white': False, 'men': False, 'chance': False, 'whist': False, 'sat': False, 'law': False, 'beating': False, 'beside': False, 'driven': False, 'one': False, 'brother': False, 'demented': False, 'looked': False, 'broken': False, 'stand': False, 'relatives': False, 'man': False, 'proposed': False, ',': True, 'hours': False, 'past': False, 'regard': False, 'sign': False, 'suspicions': False, 'may': False, 'listen': True, 'yet': False, 'shock': False, 'bed': False, 'nutshell': False, 'merry': False, 'stone': False, 'moving': False, 'part': False, 'conceivable': False, 'awful': False, 'go': False, 'left': False, 'police': False, 'getting': False, 'retired': False, 'six': False, 'elder': False, 'morning': False, 'gibbering': False, 'see': False, 'vicarage': False, 'stone-dead': False, 'point': False, 'say': True, 'fault': False, 'retained': False, 'hall': False, 'shoulder': False, 'arm': False, 'though': False, 'violence': False, ',the': False, 'telling': False}, 'cri'), ...]\n",
            "9 65\n"
          ],
          "name": "stdout"
        }
      ]
    },
    {
      "cell_type": "code",
      "metadata": {
        "colab_type": "code",
        "outputId": "37f218fb-d599-4db7-e991-2093ea6c6dd3",
        "id": "ox0ZooucZyx3",
        "colab": {
          "base_uri": "https://localhost:8080/",
          "height": 245
        }
      },
      "source": [
        "#学習\n",
        "trained_nbc = nltk.NaiveBayesClassifier.train(train_data)\n",
        "print(trained_nbc.show_most_informative_features(10))\n",
        "\n",
        "#テスト\n",
        "accuracy = nltk.classify.accuracy(trained_nbc, testData)\n",
        "print(accuracy)\n"
      ],
      "execution_count": 106,
      "outputs": [
        {
          "output_type": "stream",
          "text": [
            "Most Informative Features\n",
            "                     two = True              cri : inn    =      3.6 : 1.0\n",
            "                     sat = True              inn : cri    =      3.1 : 1.0\n",
            "                       ? = True              inn : cri    =      3.1 : 1.0\n",
            "                  george = True              inn : cri    =      2.4 : 1.0\n",
            "                    well = True              inn : cri    =      2.4 : 1.0\n",
            "                   chair = True              inn : cri    =      2.4 : 1.0\n",
            "                   could = True              inn : cri    =      2.4 : 1.0\n",
            "                    back = True              cri : inn    =      2.3 : 1.0\n",
            "                brothers = True              cri : inn    =      2.3 : 1.0\n",
            "                     sir = True              inn : cri    =      1.7 : 1.0\n",
            "None\n",
            "0.7142857142857143\n"
          ],
          "name": "stdout"
        }
      ]
    },
    {
      "cell_type": "markdown",
      "metadata": {
        "id": "_lH4a6o-L6pp",
        "colab_type": "text"
      },
      "source": [
        "**分類器の確認**"
      ]
    },
    {
      "cell_type": "code",
      "metadata": {
        "id": "TvhRr-zDbo3K",
        "colab_type": "code",
        "outputId": "fb20d80b-8cf6-44b6-949e-a24414ba3848",
        "colab": {
          "base_uri": "https://localhost:8080/",
          "height": 34
        }
      },
      "source": [
        "def nbc_criminal_calc(talk):\n",
        "  talkwork = talk.lower().strip(\"\\n\")\n",
        "  talkwork = talkwork.replace(\"?\",\" ?\").replace(\"!\",\" !\").replace(\".\", \" .\").replace(\",\", \" ,\").replace(\";\",\" ;\").replace(\":\", \" :\")\n",
        "  prob_talk = talkwork.split()\n",
        "  prob_features = extract_features(prob_talk)\n",
        "  return trained_nbc.classify(prob_features)\n",
        "\n",
        "nbc_criminal_calc(\"Homels, you coward!\")"
      ],
      "execution_count": 111,
      "outputs": [
        {
          "output_type": "execute_result",
          "data": {
            "text/plain": [
              "'cri'"
            ]
          },
          "metadata": {
            "tags": []
          },
          "execution_count": 111
        }
      ]
    },
    {
      "cell_type": "markdown",
      "metadata": {
        "id": "Wtg7x0aoTtMB",
        "colab_type": "text"
      },
      "source": [
        "最も原始的な仕組みとしては、SPARQLで取得した各登場人物のセリフをコピー＆ペーストして分類器にかけ、登場人物ごとに結果を集計する。"
      ]
    },
    {
      "cell_type": "code",
      "metadata": {
        "id": "tvu_b8KMmY99",
        "colab_type": "code",
        "colab": {}
      },
      "source": [
        ""
      ],
      "execution_count": 0,
      "outputs": []
    }
  ]
}